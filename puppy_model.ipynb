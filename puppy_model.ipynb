{
 "cells": [
  {
   "cell_type": "code",
   "execution_count": 62,
   "id": "93740c55-c42c-46c7-b3fb-f44de2d85290",
   "metadata": {
    "tags": []
   },
   "outputs": [
    {
     "name": "stdout",
     "output_type": "stream",
     "text": [
      "ell = rate of puppies waking up \n",
      "kay = rate of awake puppies going back to sleep\n",
      "alpha = rate of awake puppies getting excited\n",
      "beta = rate of excited puppies going back to sleep\n",
      "A0 = initial number of awake puppies in puppy play pen\n",
      "E0 = initial number of excited puppies in puppy play pen\n",
      "S0 = initial number of sleepy puppies in puppy play pen\n"
     ]
    },
    {
     "data": {
      "application/vnd.jupyter.widget-view+json": {
       "model_id": "4edb1c24012848f2b93a061013d9bd2b",
       "version_major": 2,
       "version_minor": 0
      },
      "text/plain": [
       "HBox(children=(VBox(children=(FloatSlider(value=0.8, continuous_update=False, description='ell', max=5.0, min=…"
      ]
     },
     "metadata": {},
     "output_type": "display_data"
    },
    {
     "data": {
      "application/vnd.jupyter.widget-view+json": {
       "model_id": "b3a3750e48b4476a9664233953dbd380",
       "version_major": 2,
       "version_minor": 0
      },
      "text/plain": [
       "Output()"
      ]
     },
     "metadata": {},
     "output_type": "display_data"
    }
   ],
   "source": [
    "def puppywidget(ell,kay,alpha,beta,a0,e0,s0):\n",
    "\n",
    "    fig, ax = plt.subplots(1,2,figsize = (12,6))\n",
    "\n",
    "    h=0.001\n",
    "    N=a0+e0+s0\n",
    "    \n",
    "    #streamplot ----------------------------------\n",
    "    s = np.arange(0,N)\n",
    "    a = np.arange(0,N)\n",
    "    ss, aa = np.meshgrid(s,a)\n",
    "    \n",
    "    def Sdot(h,S,A):\n",
    "        \n",
    "        E = N-S-A\n",
    "        S_to_A = S*A*ell\n",
    "        A_to_S = (A-E)*kay \n",
    "        E_to_S = E*beta\n",
    "        \n",
    "        return h*(-S_to_A + A_to_S + E_to_S)\n",
    "        \n",
    "    def Adot(h,S,A):\n",
    "        \n",
    "        E = N-S-A\n",
    "        A_to_E = A*E*alpha\n",
    "        S_to_A = S*A*ell\n",
    "        A_to_S = (A-E)*kay \n",
    "        \n",
    "        return  h*(-A_to_E - A_to_S + S_to_A)\n",
    "    \n",
    "    dS = Sdot(h,ss,aa)\n",
    "    dA = Adot(h,ss,aa)\n",
    "    \n",
    "    for i,j in np.ndindex(ss.shape):\n",
    "        if ss[i,j] + aa[i,j]>N:\n",
    "            dS[i,j]=0\n",
    "            dA[i,j]=0\n",
    "    \n",
    "    ax[1].streamplot(ss,aa,dS,dA)\n",
    "    ax[1].set(xlim=(0,N),\n",
    "           ylim=(0,N),\n",
    "           xlabel='Sleepy Puppies (S)',\n",
    "           ylabel='Awake Puppies (A)')\n",
    "    \n",
    "    \n",
    "    #state plot --------------------------------------\n",
    "    \n",
    "    S = s0; A = a0; E = e0\n",
    "    \n",
    "    num_steps = 2000\n",
    "    times = h*np.arange(0,num_steps)\n",
    "\n",
    "    res = []\n",
    "    for t in times:\n",
    "        S += Sdot(h,S,A)\n",
    "        A += Adot(h,S,A)\n",
    "        E = N-S-A\n",
    "        res.append((S,A,E))\n",
    "        \n",
    "    St,At,Et = map(np.array, zip(*res))\n",
    "    ax[0].plot(times,St, 'b', label='Sleepy')\n",
    "    ax[0].plot(times,At, 'r', label='Awake')\n",
    "    ax[0].plot(times,Et, 'g', label='Excited')\n",
    "    ax[0].legend()\n",
    "    plt.show()\n",
    "    \n",
    "print(\"ell = rate of puppies waking up \")\n",
    "print(\"kay = rate of awake puppies going back to sleep\")\n",
    "print(\"alpha = rate of awake puppies getting excited\")\n",
    "print(\"beta = rate of excited puppies going back to sleep\")\n",
    "print(\"A0 = initial number of awake puppies in puppy play pen\")\n",
    "print(\"E0 = initial number of excited puppies in puppy play pen\")\n",
    "print(\"S0 = initial number of sleepy puppies in puppy play pen\")\n",
    "ell_slide = widgets.FloatSlider(min = .01, max = 5.0, step =.01,value = 0.8,description = \"ell\", continuous_update = False)\n",
    "kay_slide = widgets.FloatSlider(min = 0.0, max = 1.5, step =.01 ,value = 0.35,description = \"kay\", continuous_update = False)\n",
    "alpha_slide = widgets.FloatSlider(min = .01, max = .99, step =.01,value = .66,description = \"alpha\", continuous_update = False)\n",
    "beta_slide = widgets.FloatSlider(min = .01, max = 10.00, step =.01,value = 8,description = \"beta\", continuous_update = False)\n",
    "a0_slide = widgets.FloatSlider(min = 1, max = 33, step =1,value = 5,description = \"A0\", continuous_update = False)\n",
    "e0_slide = widgets.FloatSlider(min = 1, max = 33, step =1,value = 10,description = \"E0\", continuous_update = False)\n",
    "s0_slide = widgets.FloatSlider(min = 1, max = 33, step =1,value = 30,description = \"S0\", continuous_update = False)\n",
    "ui=widgets.HBox([widgets.VBox([ell_slide,kay_slide,alpha_slide,beta_slide]),widgets.VBox([s0_slide, a0_slide,e0_slide])])\n",
    "out=widgets.interactive_output(puppywidget,{'ell':ell_slide,\n",
    "                                            'kay':kay_slide,\n",
    "                                            'alpha':alpha_slide,\n",
    "                                            'beta':beta_slide,\n",
    "                                            'a0':a0_slide,\n",
    "                                            'e0':e0_slide,\n",
    "                                            's0':s0_slide})                                           \n",
    "display(ui,out)"
   ]
  },
  {
   "cell_type": "code",
   "execution_count": null,
   "id": "dd0ddbc0-fa31-424f-8882-84cfeb9fdc8f",
   "metadata": {},
   "outputs": [],
   "source": []
  }
 ],
 "metadata": {
  "kernelspec": {
   "display_name": "Python 3 (ipykernel)",
   "language": "python",
   "name": "python3"
  },
  "language_info": {
   "codemirror_mode": {
    "name": "ipython",
    "version": 3
   },
   "file_extension": ".py",
   "mimetype": "text/x-python",
   "name": "python",
   "nbconvert_exporter": "python",
   "pygments_lexer": "ipython3",
   "version": "3.9.6"
  }
 },
 "nbformat": 4,
 "nbformat_minor": 5
}
