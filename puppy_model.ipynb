{
 "cells": [
  {
   "cell_type": "code",
   "execution_count": 25,
   "id": "89b2f795-6a39-4cca-92a5-e31c1ab68fcf",
   "metadata": {},
   "outputs": [
    {
     "name": "stdout",
     "output_type": "stream",
     "text": [
      "ell = rate of puppies waking up \n",
      "kay = rate of awake puppies going back to sleep\n",
      "alpha = rate of awake puppies getting excited\n",
      "beta = rate of excited puppies going back to sleep\n",
      "A0 = number of awake puppies starting in puppy play pen\n",
      "E0 = number of excited puppies starting in puppy play pen\n",
      "S0 = number of sleepy puppies starting in puppy play pen\n"
     ]
    },
    {
     "data": {
      "application/vnd.jupyter.widget-view+json": {
       "model_id": "909941c1ee644a0a8278725eb5f60f69",
       "version_major": 2,
       "version_minor": 0
      },
      "text/plain": [
       "VBox(children=(FloatSlider(value=0.8, continuous_update=False, description='ell', max=5.0, min=0.01, step=0.01…"
      ]
     },
     "metadata": {},
     "output_type": "display_data"
    },
    {
     "data": {
      "application/vnd.jupyter.widget-view+json": {
       "model_id": "ff128484f68b4929adbc27d3923110c8",
       "version_major": 2,
       "version_minor": 0
      },
      "text/plain": [
       "Output()"
      ]
     },
     "metadata": {},
     "output_type": "display_data"
    }
   ],
   "source": [
    "import matplotlib.pyplot as plt\n",
    "import numpy as np\n",
    "import ipywidgets as widgets\n",
    "\n",
    "def puppywidget(ell,kay,alpha,beta,a0,e0,s0):\n",
    "    \n",
    "\n",
    "    x = np.arange(0,100)\n",
    "    y = np.arange(0,100)\n",
    "    fig, ax = plt.subplots(figsize = (8,8))\n",
    "    #ax.set(ylim=(0,99))\n",
    "    S = s0; A = a0; E = e0\n",
    "    h=0.001\n",
    "    num_steps = 10000\n",
    "    res = []\n",
    "\n",
    "    times = h*np.arange(0,num_steps)\n",
    "    for t in times:\n",
    "        S_to_A = S*A*ell\n",
    "        A_to_S = (A/E)*kay\n",
    "        A_to_E = A*E*alpha\n",
    "        E_to_S = E*beta\n",
    "        S = S - h*S_to_A + h*A_to_S + h*E_to_S\n",
    "        A = A - h*A_to_E - h*A_to_S + h*S_to_A\n",
    "        E = E - h*E_to_S + h*A_to_E\n",
    "        res.append((S,A,E))\n",
    "        \n",
    "    St,At,Et = map(np.array, zip(*res))\n",
    "    ax.plot(times,St, 'b', label='Sleepy')\n",
    "    ax.plot(times,At, 'r', label='Awake')\n",
    "    ax.plot(times,Et, 'g', label='Excited')\n",
    "    ax.legend()\n",
    "    plt.show()\n",
    "    \n",
    "\n",
    "\n",
    "print(\"ell = rate of puppies waking up \")\n",
    "print(\"kay = rate of awake puppies going back to sleep\")\n",
    "print(\"alpha = rate of awake puppies getting excited\")\n",
    "print(\"beta = rate of excited puppies going back to sleep\")\n",
    "print(\"A0 = number of awake puppies starting in puppy play pen\")\n",
    "print(\"E0 = number of excited puppies starting in puppy play pen\")\n",
    "print(\"S0 = number of sleepy puppies starting in puppy play pen\")\n",
    "ell_slide = widgets.FloatSlider(min = .01, max = 5.0, step =.01,value = 0.8,description = \"ell\", continuous_update = False)\n",
    "kay_slide = widgets.FloatSlider(min = 0.0, max = 100.0, step =.01 ,value = 20,description = \"kay\", continuous_update = False)\n",
    "alpha_slide = widgets.FloatSlider(min = .01, max = .99, step =.01,value = .66,description = \"alpha\", continuous_update = False)\n",
    "beta_slide = widgets.FloatSlider(min = .01, max = 10.00, step =.01,value = 10,description = \"beta\", continuous_update = False)\n",
    "a0_slide = widgets.FloatSlider(min = 1, max = 33, step =1,value = 5,description = \"A0\", continuous_update = False)\n",
    "e0_slide = widgets.FloatSlider(min = 1, max = 33, step =1,value = 10,description = \"E0\", continuous_update = False)\n",
    "s0_slide = widgets.FloatSlider(min = 1, max = 33, step =1,value = 30,description = \"S0\", continuous_update = False)\n",
    "ui=widgets.VBox([ell_slide,kay_slide,alpha_slide,beta_slide,s0_slide, a0_slide,e0_slide])\n",
    "out=widgets.interactive_output(puppywidget,{'ell':ell_slide,\n",
    "                                            'kay':kay_slide,\n",
    "                                            'alpha':alpha_slide,\n",
    "                                            'beta':beta_slide,\n",
    "                                            'a0':a0_slide,\n",
    "                                            'e0':e0_slide,\n",
    "                                            's0':s0_slide})                                           \n",
    "display(ui,out)                                "
   ]
  },
  {
   "cell_type": "code",
   "execution_count": 31,
   "id": "78734ea5-2604-4310-a41f-884f4e77bc21",
   "metadata": {},
   "outputs": [
    {
     "name": "stdout",
     "output_type": "stream",
     "text": [
      "ell = rate of puppies waking up \n",
      "kay = rate of awake puppies going back to sleep\n",
      "alpha = rate of awake puppies getting excited\n",
      "beta = rate of excited puppies going back to sleep\n",
      "A0 = number of awake puppies starting in puppy play pen\n",
      "E0 = number of excited puppies starting in puppy play pen\n",
      "S0 = number of sleepy puppies starting in puppy play pen\n"
     ]
    },
    {
     "data": {
      "application/vnd.jupyter.widget-view+json": {
       "model_id": "78bfb37a78e04d36bd3e628238e6cc6c",
       "version_major": 2,
       "version_minor": 0
      },
      "text/plain": [
       "VBox(children=(FloatSlider(value=0.8, continuous_update=False, description='ell', max=5.0, min=0.01, step=0.01…"
      ]
     },
     "metadata": {},
     "output_type": "display_data"
    },
    {
     "data": {
      "application/vnd.jupyter.widget-view+json": {
       "model_id": "0b306e7912594f1ea4aa179aafb08625",
       "version_major": 2,
       "version_minor": 0
      },
      "text/plain": [
       "Output()"
      ]
     },
     "metadata": {},
     "output_type": "display_data"
    }
   ],
   "source": [
    "import matplotlib.pyplot as plt\n",
    "import numpy as np\n",
    "import ipywidgets as widgets\n",
    "\n",
    "def puppywidget(ell,kay,alpha,beta,a0,e0,s0):\n",
    "    \n",
    "    h=0.01\n",
    "    N = a0+e0+s0\n",
    "\n",
    "    S = np.arange(0,N)\n",
    "    A = np.arange(0,N)\n",
    "    \n",
    "    ss, aa = np.meshgrid(S,A)\n",
    "    \n",
    "    def Sdot(h,S,A):\n",
    "        \n",
    "        E = N-S-A\n",
    "        S_to_A = S*A*ell\n",
    "        A_to_S = (A/E)*kay\n",
    "        E_to_S = E*beta\n",
    "        \n",
    "        return h*(-S_to_A + A_to_S + E_to_S)\n",
    "        \n",
    "    def Adot(h,S,A):\n",
    "        \n",
    "        E = N-S-A\n",
    "        A_to_E = A*E*alpha\n",
    "        S_to_A = S*A*ell\n",
    "        A_to_S = (A/E)*kay\n",
    "        \n",
    "        return  h*(-A_to_E - A_to_S + S_to_A)\n",
    "    \n",
    "    dS = Sdot(h,ss,aa)\n",
    "    dA = Adot(h,ss,aa)\n",
    "    \n",
    "    fig, ax = plt.subplots(figsize = (5,5))\n",
    "    ax.streamplot(ss,aa,dS,dA)\n",
    "    ax.set(xlim=(0,N),ylim=(0,N))\n",
    "\n",
    "    #ax.plot([0,100],[0,0],color='purple',linewidth=5)\n",
    "    #ax.plot([0,0],[0,100],color='green',linewidth=5)\n",
    "    \n",
    "    #ax.plot([0,k1/d1],[k1/alpha12,0],color='purple',linewidth=2)\n",
    "    #ax.plot([k2/alpha21,0],[0,k2/d2],color='green',linewidth=2)\n",
    "    \n",
    "    plt.show()\n",
    "    \n",
    "\n",
    "\n",
    "print(\"ell = rate of puppies waking up \")\n",
    "print(\"kay = rate of awake puppies going back to sleep\")\n",
    "print(\"alpha = rate of awake puppies getting excited\")\n",
    "print(\"beta = rate of excited puppies going back to sleep\")\n",
    "print(\"A0 = number of awake puppies starting in puppy play pen\")\n",
    "print(\"E0 = number of excited puppies starting in puppy play pen\")\n",
    "print(\"S0 = number of sleepy puppies starting in puppy play pen\")\n",
    "ell_slide = widgets.FloatSlider(min = .01, max = 5.0, step =.01,value = 0.8,description = \"ell\", continuous_update = False)\n",
    "kay_slide = widgets.FloatSlider(min = 0.0, max = 100.0, step =.01 ,value = 20,description = \"kay\", continuous_update = False)\n",
    "alpha_slide = widgets.FloatSlider(min = .01, max = .99, step =.01,value = .66,description = \"alpha\", continuous_update = False)\n",
    "beta_slide = widgets.FloatSlider(min = .01, max = 10.00, step =.01,value = 10,description = \"beta\", continuous_update = False)\n",
    "a0_slide = widgets.FloatSlider(min = 1, max = 33, step =1,value = 5,description = \"A0\", continuous_update = False)\n",
    "e0_slide = widgets.FloatSlider(min = 1, max = 33, step =1,value = 10,description = \"E0\", continuous_update = False)\n",
    "s0_slide = widgets.FloatSlider(min = 1, max = 33, step =1,value = 30,description = \"S0\", continuous_update = False)\n",
    "ui=widgets.VBox([ell_slide,kay_slide,alpha_slide,beta_slide,s0_slide, a0_slide,e0_slide])\n",
    "out=widgets.interactive_output(puppywidget,{'ell':ell_slide,\n",
    "                                            'kay':kay_slide,\n",
    "                                            'alpha':alpha_slide,\n",
    "                                            'beta':beta_slide,\n",
    "                                            'a0':a0_slide,\n",
    "                                            'e0':e0_slide,\n",
    "                                            's0':s0_slide})                                           \n",
    "display(ui,out)                                "
   ]
  },
  {
   "cell_type": "code",
   "execution_count": null,
   "id": "dd0ddbc0-fa31-424f-8882-84cfeb9fdc8f",
   "metadata": {},
   "outputs": [],
   "source": []
  }
 ],
 "metadata": {
  "kernelspec": {
   "display_name": "Python 3 (ipykernel)",
   "language": "python",
   "name": "python3"
  },
  "language_info": {
   "codemirror_mode": {
    "name": "ipython",
    "version": 3
   },
   "file_extension": ".py",
   "mimetype": "text/x-python",
   "name": "python",
   "nbconvert_exporter": "python",
   "pygments_lexer": "ipython3",
   "version": "3.9.6"
  }
 },
 "nbformat": 4,
 "nbformat_minor": 5
}
