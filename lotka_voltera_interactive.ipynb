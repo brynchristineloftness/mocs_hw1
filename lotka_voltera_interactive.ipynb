{
 "cells": [
  {
   "cell_type": "code",
   "execution_count": 49,
   "id": "fc0d7a30-26ce-4e67-96ac-2f212fe4e6e2",
   "metadata": {},
   "outputs": [
    {
     "data": {
      "application/vnd.jupyter.widget-view+json": {
       "model_id": "d7b4a85e16e34b80b0cdd7a0ccb8f99a",
       "version_major": 2,
       "version_minor": 0
      },
      "text/plain": [
       "VBox(children=(FloatSlider(value=50.0, continuous_update=False, description='k1', step=1.0), FloatSlider(value…"
      ]
     },
     "metadata": {},
     "output_type": "display_data"
    },
    {
     "data": {
      "application/vnd.jupyter.widget-view+json": {
       "model_id": "c27304be9d484dd1a77a4cc4484f2f74",
       "version_major": 2,
       "version_minor": 0
      },
      "text/plain": [
       "Output()"
      ]
     },
     "metadata": {},
     "output_type": "display_data"
    }
   ],
   "source": [
    "import numpy as np\n",
    "import matplotlib.pyplot as plt\n",
    "import ipywidgets as widgets\n",
    "\n",
    "def streamplot(k1,k2,alpha12,alpha21,b1,b2):\n",
    "\n",
    "    def ndot(n,n_other,k,birth_rate,death_rate,alpha):    \n",
    "        return n*birth_rate*(k - death_rate*n - alpha*n_other)/k\n",
    "\n",
    "#     k1 = 50\n",
    "#     k2 = 100\n",
    "#     alpha12 = 2\n",
    "#     alpha21 = 5\n",
    "#     birth_rate_1 = 1\n",
    "#     birth_rate_2 = 1\n",
    "    d1 = 1\n",
    "    d2 = 1\n",
    "\n",
    "    x = np.arange(0,100)\n",
    "    y = np.arange(0,100)\n",
    "    xx,yy = np.meshgrid(x,y)\n",
    "\n",
    "    dx = ndot(xx,yy,k1,b1,d1,alpha12)\n",
    "    dy = ndot(yy,xx,k2,b2,d2,alpha21)\n",
    "\n",
    "    fig, ax = plt.subplots(figsize = (5,5))\n",
    "    ax.streamplot(xx,yy,dx,dy)\n",
    "    ax.set(xlim=(0,100),ylim=(0,100))\n",
    "\n",
    "    ax.plot([0,100],[0,0],color='purple',linewidth=5)\n",
    "    ax.plot([0,0],[0,100],color='green',linewidth=5)\n",
    "    \n",
    "    ax.plot([0,k1/d1],[k1/alpha12,0],color='purple',linewidth=2)\n",
    "    ax.plot([k2/alpha21,0],[0,k2/d2],color='green',linewidth=2)\n",
    "    \n",
    "    plt.show()\n",
    "\n",
    "\n",
    "\n",
    "k1_slide=widgets.FloatSlider(min=0,max=100,step=1,value=50,description='k1',continuous_update=False)\n",
    "k2_slide=widgets.FloatSlider(min=0,max=100,step=1,value=100,description='k2',continuous_update=False)\n",
    "alpha_12_slide=widgets.FloatSlider(min=0,max=5,step=0.5,value=1,description='alpha12',continuous_update=False)\n",
    "alpha_21_slide=widgets.FloatSlider(min=0,max=5,step=0.5,value=1,description='alpha21',continuous_update=False)\n",
    "birth_rate_1_slide = widgets.FloatSlider(min=0.1,max=5,step=0.1,value=1,description='birth_rate_1',continuous_update=False)\n",
    "birth_rate_2_slide = widgets.FloatSlider(min=0.1,max=5,step=0.1,value=1,description='birth_rate_2',continuous_update=False)\n",
    "\n",
    "ui=widgets.VBox([k1_slide,k2_slide,alpha_12_slide,alpha_21_slide,birth_rate_1_slide,birth_rate_2_slide])\n",
    "out=widgets.interactive_output(streamplot, {'k1':k1_slide,\n",
    "                                            'k2':k2_slide,\n",
    "                                            'alpha12':alpha_12_slide,\n",
    "                                            'alpha21':alpha_21_slide,\n",
    "                                            'b1':birth_rate_1_slide,\n",
    "                                            'b2':birth_rate_2_slide})\n",
    "#out.layout.height = '375px'\n",
    "display(ui,out)"
   ]
  }
 ],
 "metadata": {
  "kernelspec": {
   "display_name": "Python 3 (ipykernel)",
   "language": "python",
   "name": "python3"
  },
  "language_info": {
   "codemirror_mode": {
    "name": "ipython",
    "version": 3
   },
   "file_extension": ".py",
   "mimetype": "text/x-python",
   "name": "python",
   "nbconvert_exporter": "python",
   "pygments_lexer": "ipython3",
   "version": "3.9.6"
  }
 },
 "nbformat": 4,
 "nbformat_minor": 5
}
